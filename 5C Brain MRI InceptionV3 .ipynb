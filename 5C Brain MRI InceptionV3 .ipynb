{
 "cells": [
  {
   "cell_type": "markdown",
   "id": "307a6537-cad6-4e34-8b18-e12faa9c8e66",
   "metadata": {},
   "source": [
    "# InceptionV3 (Brain MRI Dataset)"
   ]
  },
  {
   "cell_type": "code",
   "execution_count": null,
   "id": "3c62927e-78d3-4838-ba9d-c5c4b3421c48",
   "metadata": {},
   "outputs": [],
   "source": [
    "import tensorflow as tf\n",
    "from tensorflow.keras import layers, models\n",
    "from tensorflow.keras.preprocessing.image import ImageDataGenerator\n",
    "from keras.models import Sequential, Model\n",
    "from keras.layers import Conv2D, Input, Dropout, Activation, Dense, MaxPooling2D, Flatten, GlobalAveragePooling2D\n",
    "from keras.optimizers import Adadelta\n",
    "from keras.callbacks import ModelCheckpoint\n",
    "from keras.callbacks import EarlyStopping\n",
    "from keras.models import load_model\n",
    "from keras.applications.inception_v3 import InceptionV3"
   ]
  },
  {
   "cell_type": "code",
   "execution_count": null,
   "id": "16b66181-ae57-457a-9e70-99374afee4c1",
   "metadata": {},
   "outputs": [],
   "source": [
    "img_height, img_width = 150, 150  \n",
    "batch_size = 64"
   ]
  },
  {
   "cell_type": "code",
   "execution_count": null,
   "id": "74a3bec8-10bb-4597-af43-ae6eb6a28ab9",
   "metadata": {},
   "outputs": [],
   "source": [
    "train_data_dir = \"E:\\\\Dataset_brain_MRI\\\\Data\\\\Data\"\n",
    "validation_data_dir = \"E:\\\\Dataset_brain_MRI\\\\Data\\\\Data\""
   ]
  },
  {
   "cell_type": "code",
   "execution_count": null,
   "id": "a49664e5-fdc5-4c29-9495-a01ab72064b7",
   "metadata": {},
   "outputs": [],
   "source": [
    "train_datagen = ImageDataGenerator(\n",
    "    rescale=1.0/255.0,\n",
    "    rotation_range=20,\n",
    "    width_shift_range=0.2,\n",
    "    height_shift_range=0.2,\n",
    "    shear_range=0.2,\n",
    "    zoom_range=0.2,\n",
    "    horizontal_flip=True,\n",
    "    fill_mode='nearest'\n",
    ")\n",
    "\n",
    "val_datagen = ImageDataGenerator(rescale=1.0/255.0)\n",
    "\n",
    "train_generator = train_datagen.flow_from_directory(\n",
    "    train_data_dir,\n",
    "    target_size=(img_height, img_width),\n",
    "    batch_size=batch_size,\n",
    "    class_mode='categorical'  \n",
    ")\n",
    "\n",
    "validation_generator = val_datagen.flow_from_directory(\n",
    "    validation_data_dir,\n",
    "    target_size=(img_height, img_width),\n",
    "    batch_size=batch_size,\n",
    "    class_mode='categorical'\n",
    ")"
   ]
  },
  {
   "cell_type": "markdown",
   "id": "b013f3b3-01a4-4a47-8dba-56472d435bac",
   "metadata": {},
   "source": [
    "# InceptionV3 Model"
   ]
  },
  {
   "cell_type": "code",
   "execution_count": null,
   "id": "e8243c24-675c-4236-994c-da6bfe3e6e59",
   "metadata": {},
   "outputs": [],
   "source": [
    "base_model = InceptionV3(weights='imagenet', include_top=False, input_shape=(256, 256, 3))\n",
    "transfer_learning_arch = base_model.output\n",
    "transfer_learning_arch = Conv2D(512, (3, 3), activation='relu', padding='same')(transfer_learning_arch)\n",
    "transfer_learning_arch = UpSampling2D(size=(2, 2))(transfer_learning_arch)\n",
    "transfer_learning_arch = Conv2D(256, (3, 3), activation='relu', padding='same')(transfer_learning_arch)\n",
    "transfer_learning_arch = UpSampling2D(size=(2, 2))(transfer_learning_arch)\n",
    "transfer_learning_arch = Conv2D(128, (3, 3), activation='relu', padding='same')(transfer_learning_arch)\n",
    "transfer_learning_arch = UpSampling2D(size=(2, 2))(transfer_learning_arch)\n",
    "transfer_learning_arch = Conv2D(64, (3, 3), activation='relu', padding='same')(transfer_learning_arch)\n",
    "transfer_learning_arch = UpSampling2D(size=(2, 2))(transfer_learning_arch)\n",
    "output = Conv2D(1, (1, 1), activation='sigmoid', padding='same')(x)\n",
    "transfer_learning_model = Model(inputs=base_model.input, outputs=output)\n",
    "transfer_learning_model.compile(optimizer=Adam(learning_rate=1e-4), loss='binary_crossentropy', metrics=['accuracy'])"
   ]
  },
  {
   "cell_type": "code",
   "execution_count": null,
   "id": "848fe766-4d8c-4f33-944a-af2cc37e02d9",
   "metadata": {},
   "outputs": [],
   "source": [
    "transfer_learning_model.summary()"
   ]
  },
  {
   "cell_type": "code",
   "execution_count": null,
   "id": "f7e2b635-4d34-418b-a68d-86b110b15b88",
   "metadata": {},
   "outputs": [],
   "source": [
    "for layer in transfer_learning_model.layers[:280]:\n",
    "    layer.trainable = False\n",
    "for layer in transfer_learning_model.layers[280:]:\n",
    "    layer.trainable = True"
   ]
  },
  {
   "cell_type": "code",
   "execution_count": null,
   "id": "4cf2bc80-8b59-4413-b400-4a16e075f4eb",
   "metadata": {},
   "outputs": [],
   "source": [
    "history_relu=transfer_learning_model.fit(train_generator, batch_size=64, epochs=20, verbose=1, validation_data=val_generator)"
   ]
  },
  {
   "cell_type": "markdown",
   "id": "1df30254-2460-48c1-8da3-21ad785b1937",
   "metadata": {},
   "source": [
    "# Model Evaluation"
   ]
  },
  {
   "cell_type": "code",
   "execution_count": null,
   "id": "1f5afa2b-393c-452f-908b-0ab2258809ca",
   "metadata": {},
   "outputs": [],
   "source": [
    "y_predicted = transfer_learning_model.predict(validation_generator)\n",
    "y_predicted_labels = [np.argmax(i) for i in y_predicted]\n",
    "cm = tf.math.confusion_matrix(labels=y_test,predictions=y_predicted_labels)"
   ]
  },
  {
   "cell_type": "code",
   "execution_count": null,
   "id": "659a1dd3-35cf-493f-9fce-4171f5c2d02e",
   "metadata": {},
   "outputs": [],
   "source": [
    "plt.figure(figsize = (10,7))\n",
    "sns.heatmap(cm, annot=True, fmt='d')\n",
    "plt.xlabel('Predicted')\n",
    "plt.ylabel('Truth')"
   ]
  },
  {
   "cell_type": "code",
   "execution_count": null,
   "id": "7a8b6657-fad4-41e9-b55c-b99f09a0f7c8",
   "metadata": {},
   "outputs": [],
   "source": [
    "from sklearn.metrics import classification_report\n",
    "print(classification_report(y_test, y_predicted_labels))"
   ]
  },
  {
   "cell_type": "markdown",
   "id": "71f79aef-d84f-460f-8127-be5c2e34946e",
   "metadata": {},
   "source": [
    "# Model Saving Using FastAPI and Steamlit"
   ]
  },
  {
   "cell_type": "code",
   "execution_count": null,
   "id": "c1b5185f-933b-455b-a0ab-5aedf2e602ce",
   "metadata": {},
   "outputs": [],
   "source": [
    "from fastapi import FastAPI\n",
    "from fastapi.responses import FileResponse\n",
    "app = FastAPI()\n",
    "@app.get(\"/download-model/\")\n",
    "def download_model():\n",
    "    file_path = \"transfer_learning_model.h5\" \n",
    "    return FileResponse(file_path, media_type='application/octet-stream', filename=\"transfer_learning_model.h5\")"
   ]
  },
  {
   "cell_type": "code",
   "execution_count": null,
   "id": "e4ff9ce2-1caf-4032-a9d9-7cb7ba2ee118",
   "metadata": {},
   "outputs": [],
   "source": [
    "import streamlit as st\n",
    "with open(\"transfer_learning_model.h5\", \"rb\") as file:\n",
    "    st.download_button(\n",
    "        label=\"Download Model\",\n",
    "        data=file,\n",
    "        file_name=\"transfer_learning_model.h5\",\n",
    "        mime='application/octet-stream'\n",
    "    )"
   ]
  }
 ],
 "metadata": {
  "kernelspec": {
   "display_name": "Python 3 (ipykernel)",
   "language": "python",
   "name": "python3"
  },
  "language_info": {
   "codemirror_mode": {
    "name": "ipython",
    "version": 3
   },
   "file_extension": ".py",
   "mimetype": "text/x-python",
   "name": "python",
   "nbconvert_exporter": "python",
   "pygments_lexer": "ipython3",
   "version": "3.12.4"
  }
 },
 "nbformat": 4,
 "nbformat_minor": 5
}
